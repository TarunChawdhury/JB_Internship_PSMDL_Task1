{
 "cells": [
  {
   "cell_type": "markdown",
   "metadata": {},
   "source": [
    "## Import necessary libraries and functions"
   ]
  },
  {
   "cell_type": "code",
   "execution_count": 1,
   "metadata": {},
   "outputs": [],
   "source": [
    "import warnings\n",
    "warnings.filterwarnings('ignore')"
   ]
  },
  {
   "cell_type": "code",
   "execution_count": 6,
   "metadata": {},
   "outputs": [],
   "source": [
    "# tensorflow backend\n",
    "from os import environ\n",
    "environ['KERAS_BACKEND'] = 'tensorflow'\n",
    "# import scientific py\n",
    "import numpy as np\n",
    "import pandas as pd\n",
    "# rdkit stuff\n",
    "from rdkit.Chem import AllChem as Chem\n",
    "from rdkit.Chem import PandasTools\n",
    "# plotting stuff\n",
    "import matplotlib.pyplot as plt\n",
    "import matplotlib as mpl\n",
    "from IPython.display import SVG, display\n",
    "%config InlineBackend.figure_format = 'retina'\n",
    "%matplotlib inline\n",
    "# adding path with code to PATH variable\n",
    "import sys\n",
    "sys.path.insert(1, './chemical_vae')\n",
    "# vae stuff\n",
    "from chemvae.vae_utils import VAEUtils\n",
    "from chemvae import mol_utils as mu"
   ]
  },
  {
   "cell_type": "markdown",
   "metadata": {},
   "source": [
    "## Using the VAE"
   ]
  },
  {
   "cell_type": "markdown",
   "metadata": {},
   "source": [
    "smiles <i class=\"fa fa-arrow-right\" aria-hidden=\"true\"></i> x <i class=\"fa fa-arrow-right\" aria-hidden=\"true\"></i> z <i class=\"fa fa-arrow-right\" aria-hidden=\"true\"></i> x_r <i class=\"fa fa-arrow-right\" aria-hidden=\"true\"></i> smiles_r"
   ]
  },
  {
   "cell_type": "code",
   "execution_count": 7,
   "metadata": {},
   "outputs": [
    {
     "name": "stdout",
     "output_type": "stream",
     "text": [
      "Using standarized functions? True\n",
      "Standarization: estimating mu and std values ...done!\n"
     ]
    }
   ],
   "source": [
    "# creating the variational autoencoder and loading the pretrained model\n",
    "vae = VAEUtils(directory='./chemical_vae/models/zinc_properties')"
   ]
  },
  {
   "cell_type": "code",
   "execution_count": 4,
   "metadata": {},
   "outputs": [],
   "source": [
    "def encoding_decoding_prediction(vae, smiles):\n",
    "    \"\"\" \n",
    "    The function to encode and decode SMILES\n",
    "    representation of molecule with given VAE\n",
    "  \n",
    "    Parameters: \n",
    "    vae (VAEUtils): object containing VAE model \n",
    "    and property predictor \n",
    "  \n",
    "    Returns: \n",
    "    str: SMILES of decoded molecule\n",
    "    list: list of predicted molecule's properties (qed, SAS, logP)\n",
    "  \n",
    "    \"\"\"\n",
    "    X_1 = vae.smiles_to_hot(smiles,canonize_smiles=True)\n",
    "    z_1 = vae.encode(X_1)\n",
    "    X_r = vae.decode(z_1)\n",
    "    \n",
    "    smiles_decoded = vae.hot_to_smiles(X_r,strip=True)[0]\n",
    "\n",
    "    print('{:20s} : {}'.format('Input',smiles))\n",
    "    print('{:20s} : {}'.format('Reconstruction',smiles_decoded))\n",
    "    print('{:20s} : {} with norm {:.3f}'.format('Z representation',z_1.shape, np.linalg.norm(z_1)))\n",
    "\n",
    "    y_1 = vae.predict_prop_Z(z_1)[0]\n",
    "    \n",
    "    print('{:20s} : qed: {:.3f}, SAS: {:.3f}, logP: {:.3f}'.format('Predicted properties', y_1[0], y_1[1], y_1[2]))\n",
    "    \n",
    "    return smiles_decoded, y_1"
   ]
  },
  {
   "cell_type": "markdown",
   "metadata": {},
   "source": [
    "## Encoding, decoding and predicting the properties of the given molecules"
   ]
  },
  {
   "cell_type": "markdown",
   "metadata": {},
   "source": [
    "* Cc1ccc(S2(=O)=NC(=O)Nc3ccccc32)cc1\n",
    "* CN(Cc1ccc2c(c1)C(=O)CC2)C(=O)OC(C)(C)C\n",
    "* COC(=O)C1CCC(Oc2ccc(NC(=O)C(=O)NN)cn2)CC1"
   ]
  },
  {
   "cell_type": "code",
   "execution_count": 5,
   "metadata": {},
   "outputs": [
    {
     "name": "stdout",
     "output_type": "stream",
     "text": [
      "Input                : Cc1ccc(S2(=O)=NC(=O)Nc3ccccc32)cc1\n",
      "Reconstruction       : C(cccc(C[n+]2=NC(=O)Nc3ccccc32)cc1\n",
      "Z representation     : (1, 196) with norm 10.274\n",
      "Predicted properties : qed: 0.723, SAS: 2.410, logP: 3.147\n",
      "********************\n",
      "Input                : CN(Cc1ccc2c(c1)C(=O)CC2)C(=O)OC(C)(C)C\n",
      "Reconstruction       : CN(C)cccc2c(c1)C(=O)CC2)C(=O)OC(C)(C)C\n",
      "Z representation     : (1, 196) with norm 13.454\n",
      "Predicted properties : qed: 0.812, SAS: 2.220, logP: 2.438\n",
      "********************\n",
      "Input                : COC(=O)C1CCC(Oc2ccc(NC(=O)C(=O)NN)cn2)CC1\n",
      "Reconstruction       : COC(=O)C1CCC(Oc2ccc(NC(=O)C(=O)NN)cn2)CC1\n",
      "Z representation     : (1, 196) with norm 13.123\n",
      "Predicted properties : qed: 0.753, SAS: 2.478, logP: 0.050\n",
      "********************\n"
     ]
    }
   ],
   "source": [
    "smiles = ['Cc1ccc(S2(=O)=NC(=O)Nc3ccccc32)cc1', 'CN(Cc1ccc2c(c1)C(=O)CC2)C(=O)OC(C)(C)C', 'COC(=O)C1CCC(Oc2ccc(NC(=O)C(=O)NN)cn2)CC1']\n",
    "\n",
    "for i in smiles:\n",
    "    encoding_decoding_prediction(vae, i)\n",
    "    print(''.join(['*']*20))"
   ]
  }
 ],
 "metadata": {
  "kernelspec": {
   "display_name": "Python 3",
   "language": "python",
   "name": "python3"
  },
  "language_info": {
   "codemirror_mode": {
    "name": "ipython",
    "version": 3
   },
   "file_extension": ".py",
   "mimetype": "text/x-python",
   "name": "python",
   "nbconvert_exporter": "python",
   "pygments_lexer": "ipython3",
   "version": "3.7.7"
  }
 },
 "nbformat": 4,
 "nbformat_minor": 4
}
